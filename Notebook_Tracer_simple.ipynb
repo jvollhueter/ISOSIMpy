{
 "cells": [
  {
   "cell_type": "code",
   "execution_count": null,
   "id": "0976b045",
   "metadata": {},
   "outputs": [],
   "source": [
    "import io\n",
    "from ipyfilechooser import FileChooser\n",
    "import matplotlib.pyplot as plt\n",
    "%matplotlib notebook\n",
    "import numpy as np\n",
    "from ipywidgets import *\n",
    "from matplotlib.gridspec import GridSpec\n",
    "import matplotlib.ticker\n",
    "from Pre import *\n",
    "from Post import *\n",
    "from Calculate import *\n",
    "from datetime import datetime"
   ]
  },
  {
   "cell_type": "code",
   "execution_count": null,
   "id": "c653af4a",
   "metadata": {},
   "outputs": [],
   "source": [
    "print('This tool has three different calculation modes. First, please choose which mode you want to use.')\n"
   ]
  },
  {
   "cell_type": "code",
   "execution_count": null,
   "id": "56bb0b7c",
   "metadata": {},
   "outputs": [],
   "source": [
    "print('Select your time series of precipitation and concentration input file:')\n",
    "fc_c = FileChooser('')\n",
    "display(fc_c)"
   ]
  },
  {
   "cell_type": "code",
   "execution_count": null,
   "id": "f1b23332",
   "metadata": {},
   "outputs": [],
   "source": [
    "print('Select your sample concentrations input file:')\n",
    "fc_s = FileChooser('')\n",
    "display(fc_s)"
   ]
  },
  {
   "cell_type": "code",
   "execution_count": null,
   "id": "92a30c1a",
   "metadata": {},
   "outputs": [],
   "source": [
    "try:\n",
    "    rain = Pre.convertTimeC(pd.read_csv(fc_c.selected, sep=';', header=None))\n",
    "    sample = Pre.convertTimeS(pd.read_csv(fc_s.selected, sep=';', header=None))\n",
    "except:\n",
    "    print('An error occured!')    "
   ]
  },
  {
   "cell_type": "code",
   "execution_count": null,
   "id": "4424e6c9",
   "metadata": {},
   "outputs": [],
   "source": [
    "rain = Pre.checkZero(rain)"
   ]
  },
  {
   "cell_type": "code",
   "execution_count": null,
   "id": "988db3d4",
   "metadata": {},
   "outputs": [],
   "source": [
    "rain = Pre.weightVolumes(rain)"
   ]
  },
  {
   "cell_type": "code",
   "execution_count": null,
   "id": "a5a22492",
   "metadata": {},
   "outputs": [],
   "source": [
    "print('This is not integrated as an dynamic parameter. Set value once and do not change.')\n",
    "print('Calculation in the vadose zone:')\n",
    "Par()\n",
    "def setVadoseZone(vadose_zone):\n",
    "    if vadose_zone == 'No calculation':\n",
    "        Par.SOILM = 0\n",
    "    elif vadose_zone == 'Calculation based on monthly factor':\n",
    "        print('To use this functionality, you must implement it manually')\n",
    "        # Par.SOILM = 1\n",
    "    elif vadose_zone == 'Calculation based on hydrologic model':\n",
    "        # Par.SOILM = 2\n",
    "        print('To use this functionality, you must implement it manually')\n",
    "interact(setVadoseZone, vadose_zone = widgets.RadioButtons(options=['No calculation',\n",
    "                                       'Calculation based on monthly factor',\n",
    "                                       'Calculation based on hydrologic model'],\n",
    "                              layout={'width': 'max-content'},\n",
    "                              description='Calculation in the vadose zone:',\n",
    "        style={'description_width': 'initial'}))"
   ]
  },
  {
   "cell_type": "code",
   "execution_count": null,
   "id": "6f8d9e34",
   "metadata": {},
   "outputs": [],
   "source": [
    "if Par.SOILM == 0:\n",
    "    print('There will be no pre processing regarding to the consideration of evapotranspiration processes.')\n",
    "    Cin = rain['weighted_c']\n",
    "elif Par.SOILM == 1:\n",
    "    pass\n",
    "elif Par.SOILM == 2:\n",
    "    pass"
   ]
  },
  {
   "cell_type": "code",
   "execution_count": null,
   "id": "31094b3e",
   "metadata": {},
   "outputs": [],
   "source": [
    "print('Here you can see your input datas and the sample values')\n",
    "Par.n = 0\n",
    "sample_vis = sample.drop(sample[sample[3] == 0].index)\n",
    "fig = plt.figure(figsize=(8, 5), constrained_layout=True)\n",
    "ax1 = fig.add_subplot(2, 1, 1)\n",
    "ax2 = fig.add_subplot(2, 1, 2)\n",
    "ax1.plot(rain['Date'], rain[3], label='Input Tracer 1', color='green')\n",
    "ax1.plot(sample_vis['Date'], sample_vis[1], visible=False)\n",
    "ax1.legend()\n",
    "ax2.plot(sample_vis['Date'], sample_vis[1], 'x')\n",
    "ax1.set(title='Tracer Source',\n",
    "        ylabel='$c$ [TU]',\n",
    "        xlabel='t',\n",
    "        ylim=0)\n",
    "ax2.set(title='Tracer Sink',\n",
    "        ylabel='$c$ [TU]',\n",
    "        xlabel='t',\n",
    "        ylim=0)\n",
    "ax1.grid()\n",
    "ax2.grid()"
   ]
  },
  {
   "cell_type": "code",
   "execution_count": null,
   "id": "9b4a8629",
   "metadata": {
    "scrolled": true
   },
   "outputs": [],
   "source": [
    "print('All basic settings are now made. The settings that are now still necessary must be selected once at the beginning for the first model run. You then have the possibility to change the parameter combination and compare different variants.')"
   ]
  },
  {
   "cell_type": "code",
   "execution_count": null,
   "id": "6b76da87",
   "metadata": {},
   "outputs": [],
   "source": [
    "print('Model type and parameter values:')\n",
    "def setParameters(model, mean_tt, half_time, pd, eta):\n",
    "    if model == 'Piston Flow Model':\n",
    "        Par.MODNUM = 1\n",
    "    elif model == 'Exponential Model':\n",
    "        Par.MODNUM = 2\n",
    "    elif model == 'Dispersion Model':\n",
    "        Par.MODNUM = 3\n",
    "    elif model == 'Linear Model':\n",
    "        Par.MODNUM = 4\n",
    "    elif model == 'Exponential - Piston Flow Model':\n",
    "        Par.MODNUM = 5\n",
    "    Par.TT = mean_tt\n",
    "    Par.Thalf_1 = half_time\n",
    "    Par.PD = pd\n",
    "    Par.eta = eta\n",
    "interact(setParameters,\n",
    "    model = widgets.RadioButtons(options=['Piston Flow Model',\n",
    "                                       'Exponential Model',\n",
    "                                       'Dispersion Model',\n",
    "                                       'Linear Model',\n",
    "                                       'Exponential - Piston Flow Model'],\n",
    "                              layout={'width': 'max-content'},\n",
    "                              description='Modeltype:',\n",
    "        style={'description_width': 'initial'}),\n",
    "    mean_tt = widgets.BoundedIntText(value=10, min=1, max=100, step=1,\n",
    "                                     description='Mean travel time [a]:',\n",
    "                                    style={'description_width': 'initial'}),\n",
    "    half_time = widgets.BoundedFloatText(value=10, min=1, max=100, step=0.001,\n",
    "                                         description='Half Time [1/a]:',\n",
    "                                        style={'description_width': 'initial'}),\n",
    "    pd = widgets.BoundedFloatText(value=0.1, min=0.01, max=1, step=0.01,\n",
    "                             description='PD:',\n",
    "                                 style={'description_width': 'initial'}),\n",
    "    eta = widgets.BoundedFloatText(value=0.5, min=0.01, max=1, step=0.01,\n",
    "                             description='eta:',\n",
    "                                  style={'description_width': 'initial'}))"
   ]
  },
  {
   "cell_type": "code",
   "execution_count": null,
   "id": "9b9a1eb9",
   "metadata": {},
   "outputs": [],
   "source": [
    "Par.step = 0\n",
    "Par.n += 1\n",
    "result = Tracer(Par, Cin, rain)\n",
    "with open(r'out/log.txt', 'a') as f:\n",
    "    f.write(str(datetime.now()))\n",
    "    f.write(';' + str(Par.n))\n",
    "    f.write(';' + str(Par.MODNUM))\n",
    "    f.write(';' + str(Par.TT))\n",
    "    f.write(';' + str(Par.Thalf_1))\n",
    "    f.write(';' + str(Par.PD))\n",
    "    f.write(';' + str(Par.eta))\n",
    "    f.write('\\n')\n",
    "ax2.plot(rain['Date'], result.result, label='Run '+str(Par.n))\n",
    "ax2.legend()\n",
    "fig"
   ]
  },
  {
   "cell_type": "code",
   "execution_count": null,
   "id": "23d289a5",
   "metadata": {},
   "outputs": [],
   "source": []
  }
 ],
 "metadata": {
  "kernelspec": {
   "display_name": "Python 3 (ipykernel)",
   "language": "python",
   "name": "python3"
  },
  "language_info": {
   "codemirror_mode": {
    "name": "ipython",
    "version": 3
   },
   "file_extension": ".py",
   "mimetype": "text/x-python",
   "name": "python",
   "nbconvert_exporter": "python",
   "pygments_lexer": "ipython3",
   "version": "3.9.9"
  }
 },
 "nbformat": 4,
 "nbformat_minor": 5
}
