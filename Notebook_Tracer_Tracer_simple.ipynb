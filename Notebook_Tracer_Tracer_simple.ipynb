{
 "cells": [
  {
   "cell_type": "markdown",
   "id": "4cd7cacc-f4c7-40a9-abde-d90b00f0887c",
   "metadata": {
    "tags": []
   },
   "source": [
    "# Example 3 - Application of LPMs for Data of Two Tracers\n",
    "\n",
    "- **General goal**: application of LPMs starting from three time series data sets:\n",
    "    - precipitation measurements\n",
    "    - tracer concentration in precipitation (tracer / location 1)\n",
    "    - tracer concentration in precipitation (tracer / location 2)\n",
    "    \n",
    "- **Steps**:\n",
    "    1. data import and data pre-processing\n",
    "    2. data visualization\n",
    "    3. model setup\n",
    "    4. running the model\n",
    "    \n",
    "**Note: if you are unfamiliar with the `ISOSIMpy` package, do not manipulate any code in this notebook!**"
   ]
  },
  {
   "cell_type": "markdown",
   "id": "039ef380-6b0c-42ba-88a4-47183c770a1a",
   "metadata": {},
   "source": [
    "### Step 1: Data Import"
   ]
  },
  {
   "cell_type": "markdown",
   "id": "db4d0c7c-65ec-431c-be1e-648d79641572",
   "metadata": {
    "tags": []
   },
   "source": [
    "#### 1.1 Setting the Plotting Environment"
   ]
  },
  {
   "cell_type": "markdown",
   "id": "c249e5dd-6bb2-424e-905c-6a905cd13531",
   "metadata": {},
   "source": [
    "&rarr; Setting the plotting environment (`widget` for dynamic plots, `inline` for static plots)"
   ]
  },
  {
   "cell_type": "code",
   "execution_count": 1,
   "id": "3843d07f-e863-4fef-a695-621ae23761f5",
   "metadata": {
    "jupyter": {
     "source_hidden": true
    },
    "tags": []
   },
   "outputs": [],
   "source": [
    "%matplotlib inline"
   ]
  },
  {
   "cell_type": "markdown",
   "id": "fd5520fb-8219-4a3c-abbb-c50c62ddc59d",
   "metadata": {
    "tags": []
   },
   "source": [
    "#### 1.2 Importing Packages"
   ]
  },
  {
   "cell_type": "markdown",
   "id": "d1b7cfcc-61df-4142-b5fb-c5b22335aad1",
   "metadata": {},
   "source": [
    "&rarr; Importing packages"
   ]
  },
  {
   "cell_type": "code",
   "execution_count": 2,
   "id": "0976b045",
   "metadata": {},
   "outputs": [],
   "source": [
    "from ipyfilechooser import FileChooser\n",
    "import matplotlib.pyplot as plt\n",
    "import numpy as np\n",
    "from ipywidgets import *\n",
    "from Pre import *\n",
    "from Post import *\n",
    "from Calculate import *"
   ]
  },
  {
   "cell_type": "markdown",
   "id": "a19e623d-1677-45d4-b25d-121ce274b7c4",
   "metadata": {
    "tags": []
   },
   "source": [
    "#### 1.3 Selecting Relevant Files"
   ]
  },
  {
   "cell_type": "markdown",
   "id": "164b5a69-9b8e-434c-a2d2-6e5ebb7fb5a4",
   "metadata": {},
   "source": [
    "&rarr; Select files with relevant data\n",
    "1. Precipitation and source concantration file for tracer 1\n",
    "2. Precipitation and source concentration file for tracer 2"
   ]
  },
  {
   "cell_type": "code",
   "execution_count": null,
   "id": "56bb0b7c",
   "metadata": {},
   "outputs": [],
   "source": [
    "print('Select your time series of precipitation and concentration input file of tracer 1:')\n",
    "fc_c = FileChooser('')\n",
    "display(fc_c)"
   ]
  },
  {
   "cell_type": "code",
   "execution_count": null,
   "id": "070ce0fb",
   "metadata": {},
   "outputs": [],
   "source": [
    "print('Select your time series of precipitation and concentration input file of tracer 2:')\n",
    "fc_c_2 = FileChooser('')\n",
    "display(fc_c_2)"
   ]
  },
  {
   "cell_type": "markdown",
   "id": "3021e60a-689a-42c6-af59-cd933df6777d",
   "metadata": {
    "tags": []
   },
   "source": [
    "#### 1.4 Importing and Pre-Processing Data"
   ]
  },
  {
   "cell_type": "markdown",
   "id": "47c3d9fc-9276-4061-863d-c09d2f84ef27",
   "metadata": {},
   "source": [
    "&rarr; Import and initially pre-process data (set date / time etc.)"
   ]
  },
  {
   "cell_type": "code",
   "execution_count": null,
   "id": "92a30c1a",
   "metadata": {
    "jupyter": {
     "source_hidden": true
    },
    "tags": []
   },
   "outputs": [],
   "source": [
    "try:\n",
    "    rain = Pre.convertTimeC(pd.read_csv(fc_c.selected, sep=';', header=None))\n",
    "    rain_2 = Pre.convertTimeC(pd.read_csv(fc_c_2.selected, sep=';', header=None))\n",
    "except:\n",
    "    print('An error occured!')"
   ]
  },
  {
   "cell_type": "markdown",
   "id": "16eefc53-173c-4a40-98e3-1a53b23c583d",
   "metadata": {},
   "source": [
    "&rarr; Data pre-processing\n",
    "1. Check for negative / zero data points and handle them\n",
    "2. Perform volume-weighting of concentration in precipitation"
   ]
  },
  {
   "cell_type": "code",
   "execution_count": null,
   "id": "4424e6c9",
   "metadata": {
    "jupyter": {
     "source_hidden": true
    },
    "tags": []
   },
   "outputs": [],
   "source": [
    "rain = Pre.checkZero(rain)\n",
    "rain_2 = Pre.checkZero(rain_2)"
   ]
  },
  {
   "cell_type": "code",
   "execution_count": null,
   "id": "988db3d4",
   "metadata": {
    "jupyter": {
     "source_hidden": true
    },
    "tags": []
   },
   "outputs": [],
   "source": [
    "rain = Pre.weightVolumes(rain)\n",
    "rain_2 = Pre.weightVolumes(rain_2)"
   ]
  },
  {
   "cell_type": "markdown",
   "id": "d37779f3-f0af-4cb0-968c-796cf0f6943f",
   "metadata": {},
   "source": [
    "### Step 2: Data Visualization"
   ]
  },
  {
   "cell_type": "markdown",
   "id": "c126c339-2be7-4cab-ba8e-3091ca19f930",
   "metadata": {},
   "source": [
    "#### 2.1 Plotting Source Concentration Data for Both Tracers"
   ]
  },
  {
   "cell_type": "markdown",
   "id": "87746c9c-cd24-4cd2-837d-4a4d45777140",
   "metadata": {},
   "source": [
    "&rarr; Plotting data in one single plot"
   ]
  },
  {
   "cell_type": "code",
   "execution_count": null,
   "id": "31094b3e",
   "metadata": {
    "tags": []
   },
   "outputs": [],
   "source": [
    "print('Here you can see your input datas')\n",
    "Par.n = 0\n",
    "fig = plt.figure(figsize=(8, 5), constrained_layout=True)\n",
    "\n",
    "ax1 = fig.add_subplot(1, 1, 1)\n",
    "\n",
    "ax1.plot(rain['Date'], rain['weighted_c'], label='Volume-Weighted Input Tracer 1', color='green')\n",
    "ax1.plot(rain_2['Date'], rain_2['weighted_c'], label='Volume-Weighted Input Tracer 2', color='orange', ls=\":\")\n",
    "ax1.legend()\n",
    "ax1.set(title='Tracer Source',\n",
    "        ylabel='$c$ [TU]',\n",
    "        xlabel='t',\n",
    "        yscale='log',\n",
    "        ylim=(0.1, 2e4))\n",
    "ax1.grid()"
   ]
  },
  {
   "cell_type": "markdown",
   "id": "262ad135-a057-4e32-bbcf-b0b818e81318",
   "metadata": {},
   "source": [
    "### Step 3: Model Setup"
   ]
  },
  {
   "cell_type": "markdown",
   "id": "172fca00-a494-493b-8216-e0b2ac5be39b",
   "metadata": {
    "tags": []
   },
   "source": [
    "#### 3.1 Parameterization"
   ]
  },
  {
   "cell_type": "markdown",
   "id": "91566254-9f6e-4998-8a71-7d9b88596c24",
   "metadata": {},
   "source": [
    "&rarr; Instatiating the parameterization object (`ISOSIMpy.Par()`)"
   ]
  },
  {
   "cell_type": "code",
   "execution_count": null,
   "id": "14fc30da-874d-409d-afc7-5d8840eb4bbe",
   "metadata": {},
   "outputs": [],
   "source": [
    "# instantiate / initialize the parameterization object\n",
    "Par()\n",
    "\n",
    "# set initial run / model number\n",
    "Par.n = 0\n",
    "\n",
    "# set monthly step (i.e., decay constant is divided by 12 and mean TT is multiplied by 12)\n",
    "Par.step = 0"
   ]
  },
  {
   "cell_type": "markdown",
   "id": "0b5efbf0-fb3d-4263-964c-cd149a000fe0",
   "metadata": {},
   "source": [
    "#### 3.2 Specifying the Vadose Zone Representation"
   ]
  },
  {
   "cell_type": "markdown",
   "id": "2177ae0a-4dc7-4487-8b53-043fb3ee84ee",
   "metadata": {},
   "source": [
    "&rarr; Specifying the vadose zone representation (as given by the `Par.SOILM` attribute of the parameterization object)"
   ]
  },
  {
   "cell_type": "code",
   "execution_count": null,
   "id": "a5a22492",
   "metadata": {},
   "outputs": [],
   "source": [
    "print('This is not integrated as an dynamic parameter. Set value once and do not change.')\n",
    "print('Calculation in the vadose zone:')\n",
    "def setVadoseZone(vadose_zone):\n",
    "    if vadose_zone == 'No calculation':\n",
    "        Par.SOILM = 0\n",
    "    elif vadose_zone == 'Calculation based on monthly factor':\n",
    "        print('To use this functionality, you must implement it manually')\n",
    "        # Par.SOILM = 1\n",
    "    elif vadose_zone == 'Calculation based on hydrologic model':\n",
    "        # Par.SOILM = 2\n",
    "        print('To use this functionality, you must implement it manually')\n",
    "interact(setVadoseZone, vadose_zone = widgets.RadioButtons(options=['No calculation',\n",
    "                                       'Calculation based on monthly factor',\n",
    "                                       'Calculation based on hydrologic model'],\n",
    "                              layout={'width': 'max-content'},\n",
    "                              description='Calculation in the vadose zone:',\n",
    "        style={'description_width': 'initial'}))"
   ]
  },
  {
   "cell_type": "markdown",
   "id": "55cc585d-c59b-4462-8fe0-04119f474739",
   "metadata": {},
   "source": [
    "&rarr; Handling recharge (here, the recharge water tracer concentration is set to the tracer concentration of precipitation water)"
   ]
  },
  {
   "cell_type": "code",
   "execution_count": null,
   "id": "6f8d9e34",
   "metadata": {},
   "outputs": [],
   "source": [
    "if Par.SOILM == 0:\n",
    "    print('There will be no pre processing regarding to the consideration of evapotranspiration processes.')\n",
    "    Cin = rain['weighted_c']\n",
    "    Cin_2 = rain_2['weighted_c']\n",
    "elif Par.SOILM == 1:\n",
    "    pass\n",
    "elif Par.SOILM == 2:\n",
    "    pass"
   ]
  },
  {
   "cell_type": "markdown",
   "id": "476758a1-c025-4110-8656-ef6ba90fcdf2",
   "metadata": {},
   "source": [
    "&rarr; Giving the user feedback on the state of the model setup"
   ]
  },
  {
   "cell_type": "code",
   "execution_count": null,
   "id": "9b4a8629",
   "metadata": {},
   "outputs": [],
   "source": [
    "print('All basic settings are now made. The settings that are now still necessary must be selected once at the beginning for the first model run. You then have the possibility to change the parameter combination and compare different variants.')"
   ]
  },
  {
   "cell_type": "markdown",
   "id": "69a0d5ce-5944-4ba8-84ae-1ec86f18da03",
   "metadata": {},
   "source": [
    "#### 3.3 Setting Model Parameters"
   ]
  },
  {
   "cell_type": "markdown",
   "id": "f4202d58-3ae2-494f-ada0-7cd96f7d8b42",
   "metadata": {},
   "source": [
    "&rarr; Giving the user feedback on the state of the model setup"
   ]
  },
  {
   "cell_type": "code",
   "execution_count": null,
   "id": "6b76da87",
   "metadata": {},
   "outputs": [],
   "source": [
    "print('Model type and parameter values:')\n",
    "def setParameters(model, mean_tt, half_time, half_time_2, pd, eta):\n",
    "    if model == 'Piston Flow Model':\n",
    "        Par.MODNUM = 1\n",
    "    elif model == 'Exponential Model':\n",
    "        Par.MODNUM = 2\n",
    "    elif model == 'Dispersion Model':\n",
    "        Par.MODNUM = 3\n",
    "    elif model == 'Linear Model':\n",
    "        Par.MODNUM = 4\n",
    "    elif model == 'Exponential - Piston Flow Model':\n",
    "        Par.MODNUM = 5\n",
    "    Par.TT = mean_tt\n",
    "    Par.Thalf_1 = half_time\n",
    "    Par.Thalf_2 = half_time_2\n",
    "    Par.PD = pd\n",
    "    Par.eta = eta\n",
    "interact(setParameters,\n",
    "    model = widgets.RadioButtons(options=['Piston Flow Model',\n",
    "                                       'Exponential Model',\n",
    "                                       'Dispersion Model',\n",
    "                                       'Linear Model',\n",
    "                                       'Exponential - Piston Flow Model'],\n",
    "                              layout={'width': 'max-content'},\n",
    "                              description='Modeltype:',\n",
    "        style={'description_width': 'initial'}),\n",
    "    mean_tt = widgets.BoundedIntText(value=10, min=1, max=100, step=1,\n",
    "                                     description='Mean travel time [a]:',\n",
    "                                    style={'description_width': 'initial'}),\n",
    "    half_time = widgets.BoundedFloatText(value=10, min=1, max=100, step=0.001,\n",
    "                                         description='Half Time Tracer 1 [1/a]:',\n",
    "                                        style={'description_width': 'initial'}),\n",
    "    half_time_2 = widgets.BoundedFloatText(value=10, min=1, max=100, step=0.001,\n",
    "                                         description='Half Time Tracer 2 [1/a]:',\n",
    "                                        style={'description_width': 'initial'}),\n",
    "    pd = widgets.BoundedFloatText(value=0.1, min=0.01, max=1, step=0.01,\n",
    "                             description='PD:',\n",
    "                                 style={'description_width': 'initial'}),\n",
    "    eta = widgets.BoundedFloatText(value=0.5, min=0.01, max=1, step=0.01,\n",
    "                             description='eta:',\n",
    "                                  style={'description_width': 'initial'}))"
   ]
  },
  {
   "cell_type": "markdown",
   "id": "72e69eab-1856-4588-aa4e-3dd71250c3b4",
   "metadata": {},
   "source": [
    "#### 3.4 Setting Additional Parameters"
   ]
  },
  {
   "cell_type": "markdown",
   "id": "f1e52ca3-ec2a-4671-bea9-24fb8a801ba7",
   "metadata": {},
   "source": [
    "&rarr; specify array of mean travel times to compute results with (`TTs`)\n",
    "\n",
    "&rarr; specify array of GW-ages that should be labelled in the plot (`show_gw_age`)\n",
    "\n",
    "&rarr; specify for which time the results should be plotted (`date`)\n",
    "\n",
    "note, however, that `date` is the number of months from the first precipitation data point!"
   ]
  },
  {
   "cell_type": "code",
   "execution_count": null,
   "id": "35496478",
   "metadata": {},
   "outputs": [],
   "source": [
    "TTs = np.arange(2., 100., 2.)\n",
    "show_gw_age = [2., 2., 4., 8., 16., 32., 64.]\n",
    "date = 740"
   ]
  },
  {
   "cell_type": "markdown",
   "id": "87be8ddd-daeb-404f-afc4-f521009fc0d6",
   "metadata": {},
   "source": [
    "### Step 4: Running the Model\n",
    "- **Note**: if you re-run the model multiple times, you can save some time:\n",
    "    1. specify the parameters etc. above\n",
    "    2. select this cell here\n",
    "    3. in the toolbar above, select `Run` &rarr; `Run Selected Cell and All Below`"
   ]
  },
  {
   "cell_type": "markdown",
   "id": "429629d7-2d8c-4075-865b-ae82a09f3a65",
   "metadata": {},
   "source": [
    "#### 4.1 Running the Model and Post-Processing"
   ]
  },
  {
   "cell_type": "markdown",
   "id": "9aa7c358-24d0-435f-9d7d-234433fbc7a1",
   "metadata": {},
   "source": [
    "&rarr; Running the model with the parameterization object, input concentration data and precipitation data"
   ]
  },
  {
   "cell_type": "code",
   "execution_count": null,
   "id": "9b9a1eb9",
   "metadata": {},
   "outputs": [],
   "source": [
    "# increase model (run) number\n",
    "Par.n += 1\n",
    "\n",
    "# obtain result\n",
    "result = TracerTracer(Par, Cin, Cin_2, rain, rain_2, TTs)\n",
    "\n",
    "# perform (automatic) post-processing\n",
    "Post.tracerTracer(result.result_tt, rain, rain_2, date, show_gw_age, TTs)"
   ]
  },
  {
   "cell_type": "code",
   "execution_count": null,
   "id": "6ce34e1e-f530-4a2e-98e1-ccc09d926cfa",
   "metadata": {},
   "outputs": [],
   "source": []
  }
 ],
 "metadata": {
  "kernelspec": {
   "display_name": "Python 3 (ipykernel)",
   "language": "python",
   "name": "python3"
  },
  "language_info": {
   "codemirror_mode": {
    "name": "ipython",
    "version": 3
   },
   "file_extension": ".py",
   "mimetype": "text/x-python",
   "name": "python",
   "nbconvert_exporter": "python",
   "pygments_lexer": "ipython3",
   "version": "3.10.6"
  }
 },
 "nbformat": 4,
 "nbformat_minor": 5
}
